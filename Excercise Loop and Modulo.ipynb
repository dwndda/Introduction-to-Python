{
  "nbformat": 4,
  "nbformat_minor": 0,
  "metadata": {
    "colab": {
      "name": "Excercise Introduction Python.ipynb",
      "provenance": [],
      "collapsed_sections": []
    },
    "kernelspec": {
      "name": "python3",
      "display_name": "Python 3"
    },
    "language_info": {
      "name": "python"
    }
  },
  "cells": [
    {
      "cell_type": "markdown",
      "metadata": {
        "id": "21Q6Yhc2Fy9p"
      },
      "source": [
        "# Coding Challenge 1 : Looping & Modulo\n",
        "\n",
        "Challenge untuk melakukan looping dengan Python. Contoh looping :"
      ]
    },
    {
      "cell_type": "code",
      "execution_count": null,
      "metadata": {
        "colab": {
          "base_uri": "https://localhost:8080/"
        },
        "id": "n0EJql6MGZFK",
        "outputId": "4a291e85-3c3d-47b7-d070-0133310df2f9"
      },
      "outputs": [
        {
          "output_type": "stream",
          "name": "stdout",
          "text": [
            "1\n",
            "2\n"
          ]
        }
      ],
      "source": [
        "for x in range (1, 3) :\n",
        "  print(x)"
      ]
    },
    {
      "cell_type": "markdown",
      "metadata": {
        "id": "8Pk4S8y1GF_G"
      },
      "source": [
        "### **Soal 1**: \n",
        "\n",
        "Print out integers which are multiples of 3 from 1 to 22.\n",
        "(Print out bilangan bulat yang merupakan kelipatan 3 dari 1 sampai 22).\n",
        "\n",
        "**Ekspektasi jawaban:**\n",
        "\n",
        "Ketika kode kalian di-run, muncul angka-angka: 3, 6, 9, 12, 15, 18, 21. Gunakan looping."
      ]
    },
    {
      "cell_type": "code",
      "source": [
        "for x in range (1, 23) :\n",
        "  if x % 3 == 0:    # Untuk angka kelipatan 3, ketika dibagi 3 maka sisanya adalah 0\n",
        "    print(x)"
      ],
      "metadata": {
        "colab": {
          "base_uri": "https://localhost:8080/"
        },
        "id": "zrCwVlvxYcbA",
        "outputId": "6ad6048a-9998-4ba4-dc24-e459a1854aea"
      },
      "execution_count": 5,
      "outputs": [
        {
          "output_type": "stream",
          "name": "stdout",
          "text": [
            "3\n",
            "6\n",
            "9\n",
            "12\n",
            "15\n",
            "18\n",
            "21\n"
          ]
        }
      ]
    },
    {
      "cell_type": "code",
      "source": [
        "# Cara lain : For dengan fungsi range()\n",
        "\n",
        "for x in range (3, 22, 3) :  # Mendefinisikan kelipatannya (Mulai dari angka 3, hingga kurang dari 22 dengan kelipatan sebanyak 3)\n",
        "  print(x)"
      ],
      "metadata": {
        "colab": {
          "base_uri": "https://localhost:8080/"
        },
        "id": "ZSVCvLaq0Obr",
        "outputId": "0f2184d9-7074-44d9-9fc3-0ced5d896529"
      },
      "execution_count": 2,
      "outputs": [
        {
          "output_type": "stream",
          "name": "stdout",
          "text": [
            "3\n",
            "6\n",
            "9\n",
            "12\n",
            "15\n",
            "18\n",
            "21\n"
          ]
        }
      ]
    },
    {
      "cell_type": "markdown",
      "metadata": {
        "id": "B3KWeHp2G3Pi"
      },
      "source": [
        "### **Soal 2**: \n",
        "\n",
        "Buat sebuah function di Python untuk mengecek apakah sebuah angka merupakan bilangan prima atau bukan.\n",
        "\n",
        "**Ekspektasi jawaban: **\n",
        "\n",
        "misal fungsi Anda bernama prime_check. Ketika kita jalankan prime_check(5), maka outputnya adalah '5 is a Prime number'. Fungsi ini harus bisa berlaku untuk input apa pun. \n",
        "\n",
        "Clue: Pengecekan bilangan prima menggunakan looping dan modulo. \n",
        "```(python)\n",
        "print('Hasil dari 5 modulo 2 adalah',5 % 2)  \n",
        "# 5 Modulo 2 sama dengan 1. Artinya, 5 dibagi 2, sisanya 1\n",
        "\n",
        "print('Hasil dari 6 modulo 3 adalah', 6 % 3)\n",
        "# 6 Modulo 3 sama dengan 0. Artinya 6 dibagi 3, sisanya 0.\n",
        "```"
      ]
    },
    {
      "cell_type": "code",
      "source": [
        "# Python function\n",
        "# Type casting di Python\n",
        "\n",
        "def prime_check(input):\n",
        "  # menghitung faktor pembagi yang jika dibagi maka sisanya adalah 0\n",
        "  banyaknya_faktor = 0\n",
        "  for x in range(1, input + 1):\n",
        "    if input % x == 0:\n",
        "      banyaknya_faktor = banyaknya_faktor + 1\n",
        "  \n",
        "  if banyaknya_faktor == 2:\n",
        "    print(str(input) + \" is a Prime number\")\n",
        "  else :\n",
        "    print(str(input) + \" is not a Prime number\")\n",
        "\n",
        "prime_check(5)\n",
        "prime_check(6)\n",
        "prime_check(7)"
      ],
      "metadata": {
        "colab": {
          "base_uri": "https://localhost:8080/"
        },
        "id": "X9OmDpuVbKii",
        "outputId": "be08f1d1-bd3d-442c-f0d3-6e7c17957e4e"
      },
      "execution_count": 7,
      "outputs": [
        {
          "output_type": "stream",
          "name": "stdout",
          "text": [
            "5 is a Prime number\n",
            "6 is not a Prime number\n",
            "7 is a Prime number\n"
          ]
        }
      ]
    }
  ]
}
